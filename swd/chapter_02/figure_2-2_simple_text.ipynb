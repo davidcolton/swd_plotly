{
 "cells": [
  {
   "cell_type": "code",
   "execution_count": null,
   "metadata": {},
   "outputs": [],
   "source": [
    "# Use Jupyter Black to format the code\n",
    "\n",
    "import jupyter_black\n",
    "\n",
    "jupyter_black.load()"
   ]
  },
  {
   "attachments": {},
   "cell_type": "markdown",
   "metadata": {},
   "source": [
    "# Displaying Data using Simple Text\n",
    "\n",
    "When you have just a number or two to share, simple text can be a great way to communicate.\n",
    "\n",
    "---\n",
    "\n",
    "### Imports"
   ]
  },
  {
   "cell_type": "code",
   "execution_count": null,
   "metadata": {},
   "outputs": [],
   "source": [
    "# Imports\n",
    "\n",
    "# We use Pandas to hold the data\n",
    "import pandas as pd\n",
    "\n",
    "# Initally we'll use Plotly Express\n",
    "import plotly.express as px"
   ]
  },
  {
   "attachments": {},
   "cell_type": "markdown",
   "metadata": {},
   "source": [
    "---\n",
    "\n",
    "### Data"
   ]
  },
  {
   "cell_type": "code",
   "execution_count": null,
   "metadata": {},
   "outputs": [],
   "source": [
    "# Create dataframe\n",
    "data = {\"year\": [1970, 2012], \"stay_at_home_monthers\": [41, 20]}\n",
    "df = pd.DataFrame.from_dict(data)\n",
    "\n",
    "# Let's look at the data\n",
    "df"
   ]
  },
  {
   "attachments": {},
   "cell_type": "markdown",
   "metadata": {},
   "source": [
    "---\n",
    "\n",
    "### Unstylised Plotly"
   ]
  },
  {
   "cell_type": "code",
   "execution_count": null,
   "metadata": {},
   "outputs": [],
   "source": [
    "# Create a figure\n",
    "fig = px.bar(\n",
    "    df,\n",
    "    x=\"year\",\n",
    "    y=\"stay_at_home_monthers\",\n",
    "    title='Children with a \"Traditional\" Stay-at-Home Mother',\n",
    ")\n",
    "fig.show()"
   ]
  },
  {
   "attachments": {},
   "cell_type": "markdown",
   "metadata": {},
   "source": [
    "---\n",
    "\n",
    "### Analysis of First Attempt\n",
    "\n",
    "There are several things wrong with this first out-of-the-box attempt with Plotly\n",
    "\n",
    "1. By default Plotly doesn't have a sub-title option, we'll have to work around that\n",
    "2. Neither does Plotly have a Footer Text option\n",
    "3. Plotly tried to be clever and fill the years between 1970 and 2012\n",
    "4. A y-axis was added by default and the data are not labelled\n",
    "5. Both x-axis and y-axis labels were added\n",
    "6. The background of the graph is grey with horizontal grid lines\n",
    "7. The fill colour is wrong\n",
    "8. The size of the graph is too big\n",
    "\n",
    "Let's fix these things.\n",
    "\n",
    "---\n",
    "\n",
    "### Sylised Plotly "
   ]
  },
  {
   "cell_type": "code",
   "execution_count": null,
   "metadata": {},
   "outputs": [],
   "source": [
    "# In plotly, we can have a subtitle by adding some HTML formatting to the title string.\n",
    "def format_title(title, subtitle=None, subtitle_font_size=12):\n",
    "    title = f\"<b>{title}</b>\"\n",
    "    if not subtitle:\n",
    "        return title\n",
    "    subtitle = (\n",
    "        f'<span style=\"font-size: {subtitle_font_size}px;\"><i>{subtitle}</i></span>'\n",
    "    )\n",
    "    return f\"{title}<br>{subtitle}\"\n",
    "\n",
    "\n",
    "# Create a figure\n",
    "fig = px.bar(\n",
    "    df,\n",
    "    x=\"year\",\n",
    "    y=\"stay_at_home_monthers\",\n",
    "    title=format_title(\n",
    "        'Children with a \"Traditional\" Stay-at-Home Mother',\n",
    "        \"% of children with a married stay-at-home mother with a working husband\",\n",
    "    ),\n",
    "    # Add data labels\n",
    "    text=\"stay_at_home_monthers\",\n",
    "    # Set the colour of the bars\n",
    "    color_discrete_sequence=[\"rgb(40, 80, 95)\"],\n",
    "    # Set height and width\n",
    "    height=530,\n",
    "    width=600,\n",
    ")\n",
    "\n",
    "# Tell Plotly the x-axis is Categorical\n",
    "fig.update_xaxes(type=\"category\")\n",
    "\n",
    "# Turn off the y-axis\n",
    "fig.update_yaxes(visible=False)\n",
    "\n",
    "# Show a line for the x-axis\n",
    "fig.update_xaxes(showline=True, linewidth=2, linecolor=\"black\")\n",
    "\n",
    "# Move the labels outside the end of the bars\n",
    "fig.update_traces(textposition=\"outside\")\n",
    "\n",
    "# Set the Background to White\n",
    "# Set the x-axis title to None\n",
    "fig.update_layout(\n",
    "    {\n",
    "        \"plot_bgcolor\": \"rgba(255, 255, 255, 255)\",\n",
    "        \"paper_bgcolor\": \"rgba(255, 255, 255, 255)\",\n",
    "        \"xaxis_title\": None,\n",
    "    }\n",
    ")\n",
    "\n",
    "# The footnote\n",
    "# We use HTML tags to format the text\n",
    "footnote = \"\"\"\n",
    "<b>Note:</b> Based on children younger than 18.<br>\n",
    "Their mothers are categorized based on employment status in 1970 and 2012.<br>\n",
    "<br>\n",
    "Source: Pew Research Center analysis of<br>\n",
    "March Current Population Surveys<br>\n",
    "Integrated Public Use Microdata Series (IPUMS-CPS), 1971 and 2013<br>\n",
    "<br>\n",
    "Adapted from <b>PEW RESEARCH CENTER</b>\"\"\"\n",
    "\n",
    "# Make room beneath \"b\" the chart for the footnote\n",
    "fig.update_layout(margin={\"b\": 160})\n",
    "\n",
    "# Add Footnote Text\n",
    "fig.add_annotation(\n",
    "    text=footnote,\n",
    "    showarrow=False,\n",
    "    x=-0.015,\n",
    "    y=-0.1,\n",
    "    xref=\"paper\",\n",
    "    yref=\"paper\",\n",
    "    xanchor=\"left\",\n",
    "    yanchor=\"top\",\n",
    "    font={\"size\": 11, \"color\": \"grey\"},\n",
    "    align=\"left\",\n",
    ")\n",
    "\n",
    "# Align the Title with the Graph\n",
    "fig.update_layout(title={\"y\": 0.9, \"x\": 0.13, \"xanchor\": \"left\", \"yanchor\": \"top\"})\n",
    "\n",
    "fig.show()"
   ]
  },
  {
   "cell_type": "code",
   "execution_count": null,
   "metadata": {},
   "outputs": [],
   "source": []
  }
 ],
 "metadata": {
  "kernelspec": {
   "display_name": ".venv",
   "language": "python",
   "name": "python3"
  },
  "language_info": {
   "codemirror_mode": {
    "name": "ipython",
    "version": 3
   },
   "file_extension": ".py",
   "mimetype": "text/x-python",
   "name": "python",
   "nbconvert_exporter": "python",
   "pygments_lexer": "ipython3",
   "version": "3.11.4"
  },
  "orig_nbformat": 4
 },
 "nbformat": 4,
 "nbformat_minor": 2
}
